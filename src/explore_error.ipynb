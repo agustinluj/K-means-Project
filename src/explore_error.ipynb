{
    "cells": [
        {
            "cell_type": "markdown",
            "metadata": {},
            "source": [
                "# K Means Algo"
            ]
        },
        {
            "cell_type": "code",
            "execution_count": 1,
            "metadata": {},
            "outputs": [],
            "source": [
                "#!pip install nbformat"
            ]
        },
        {
            "cell_type": "code",
            "execution_count": 2,
            "metadata": {},
            "outputs": [],
            "source": [
                "import pandas as pd\n",
                "import seaborn as sns\n",
                "from sklearn.model_selection import train_test_split as tts\n",
                "import matplotlib.pyplot as plt\n",
                "from sklearn.datasets import make_blobs\n",
                "from sklearn.cluster import KMeans\n",
                "from yellowbrick.cluster import KElbowVisualizer\n",
                "from sklearn.metrics import silhouette_score, davies_bouldin_score\n",
                "#import nbformat\n",
                "import plotly.graph_objects as go\n",
                "from plotly.subplots import make_subplots\n",
                "import plotly.express as px\n",
                "from xgboost import XGBClassifier\n",
                "from sklearn.metrics import accuracy_score\n",
                "import joblib\n"
            ]
        },
        {
            "cell_type": "code",
            "execution_count": null,
            "metadata": {},
            "outputs": [],
            "source": [
                "df = pd.read_csv('https://raw.githubusercontent.com/4GeeksAcademy/k-means-project-tutorial/main/housing.csv')\n",
                "df"
            ]
        },
        {
            "cell_type": "code",
            "execution_count": null,
            "metadata": {},
            "outputs": [],
            "source": [
                "X = df[['Latitude','Longitude', 'MedInc']]\n",
                "X.head()\n"
            ]
        },
        {
            "cell_type": "code",
            "execution_count": 5,
            "metadata": {},
            "outputs": [],
            "source": [
                "X_train, X_test = tts(X, test_size=0.2, random_state=42)"
            ]
        },
        {
            "cell_type": "markdown",
            "metadata": {},
            "source": [
                "### Paso 2: Construye un K-Means \n",
                "Clasifica los datos en 6 clusters utilizando, para ello, el modelo K-Means. "
            ]
        },
        {
            "cell_type": "code",
            "execution_count": 6,
            "metadata": {},
            "outputs": [],
            "source": [
                "model = KMeans(n_clusters=6)\n",
                "model.fit(X_train)\n",
                "y_train = model.predict(X_train)"
            ]
        },
        {
            "cell_type": "markdown",
            "metadata": {},
            "source": [
                "A continuación, almacena el cluster al que pertenece cada casa como una columna nueva del dataset. Podrías llamarla cluster. "
            ]
        },
        {
            "cell_type": "code",
            "execution_count": null,
            "metadata": {},
            "outputs": [],
            "source": [
                "X_train['cluster'] = y_train\n",
                "X_train['cluster'].value_counts()"
            ]
        },
        {
            "cell_type": "markdown",
            "metadata": {},
            "source": [
                "Para introducirla a tu conjunto de datos quizá tengas que categorizarla. Observa qué formato y valores tiene y actúa en consecuencia. Grafícala en un diagrama de puntos y describe lo que ves."
            ]
        },
        {
            "cell_type": "code",
            "execution_count": null,
            "metadata": {},
            "outputs": [],
            "source": [
                "X_train['cluster'].dtypes"
            ]
        },
        {
            "cell_type": "code",
            "execution_count": null,
            "metadata": {},
            "outputs": [],
            "source": [
                "clusters = {0: 'Cluster A', 1: 'Cluster B', 2: 'Cluster C',\n",
                "            3: 'Cluster D', 4: 'Cluster E', 5: 'Cluster F'}\n",
                "\n",
                "X_train['cluster'] = X_train['cluster'].map(clusters)\n",
                "X_train['cluster'].value_counts()"
            ]
        },
        {
            "cell_type": "code",
            "execution_count": null,
            "metadata": {},
            "outputs": [],
            "source": [
                "fig, axis = plt.subplots(1, 3, figsize = (15, 5))\n",
                "\n",
                "sns.scatterplot(ax = axis[0], data = X_train, x = \"Latitude\", y = \"Longitude\", hue = 'cluster', palette = \"deep\")\n",
                "sns.scatterplot(ax = axis[1], data = X_train, x = \"Latitude\", y = \"MedInc\", hue = 'cluster', palette = \"deep\")\n",
                "sns.scatterplot(ax = axis[2], data = X_train, x = \"Longitude\", y = \"MedInc\", hue = 'cluster', palette = \"deep\")\n",
                "plt.tight_layout()\n",
                "\n",
                "plt.show()"
            ]
        },
        {
            "cell_type": "code",
            "execution_count": null,
            "metadata": {},
            "outputs": [],
            "source": [
                "# Ahora en 3d\n",
                "fig = px.scatter_3d(X_train, x = \"Latitude\", y = \"Longitude\", z = \"MedInc\", color = \"cluster\", width = 1000, height = 500,\n",
                "                    size = X_train[\"MedInc\"].abs())\n",
                "camera = dict(\n",
                "    up = dict(x = 1, y = 3.5, z = 0),\n",
                "    eye = dict(x = 2, y = 0, z = 0)\n",
                ")\n",
                "\n",
                "fig.update_layout(scene_camera = camera)\n",
                "fig.show()"
            ]
        },
        {
            "cell_type": "code",
            "execution_count": null,
            "metadata": {},
            "outputs": [],
            "source": [
                "# Voy a revisar si esta bien que sean 6 clusters los indicados:\n",
                "X_train_noclus = X_train.drop('cluster', axis=1)\n",
                "\n",
                "# Primero con el metodo de Elbow\n",
                "elbow_viz = KElbowVisualizer(KMeans(), k=(1,20))\n",
                "elbow_viz.fit(X_train_noclus)\n",
                "elbow_viz.show()"
            ]
        },
        {
            "cell_type": "code",
            "execution_count": null,
            "metadata": {},
            "outputs": [],
            "source": [
                "# Ahora conel metodo Silhouette\n",
                "k_values = range(2, 21)\n",
                "silhouette_scores = []\n",
                "\n",
                "for k in k_values:\n",
                "  cluster_labels = KMeans(n_clusters=k,random_state=42).fit_predict(X_train_noclus)\n",
                "  silhouette_scores.append(silhouette_score(X_train_noclus, cluster_labels))\n",
                "silhouette_scores"
            ]
        },
        {
            "cell_type": "code",
            "execution_count": null,
            "metadata": {},
            "outputs": [],
            "source": [
                "plt.plot(k_values, silhouette_scores)\n",
                "plt.xlabel('Número de clústeres (k)')\n",
                "plt.ylabel('Silhouette Score')\n",
                "plt.title('Método Silhouette')\n",
                "plt.show()"
            ]
        },
        {
            "cell_type": "code",
            "execution_count": 15,
            "metadata": {},
            "outputs": [],
            "source": [
                "# Ahora con Davies-Bouldin\n",
                "k_values = range(2, 21)\n",
                "davies_scores = []\n",
                "\n",
                "for k in k_values:\n",
                "  cluster_labels = KMeans(n_clusters=k, random_state=42).fit_predict(X_train_noclus)\n",
                "  davies_scores.append(davies_bouldin_score(X_train_noclus, cluster_labels))"
            ]
        },
        {
            "cell_type": "code",
            "execution_count": null,
            "metadata": {},
            "outputs": [],
            "source": [
                "plt.plot(k_values, davies_scores)\n",
                "plt.title('Índice Davies-Bouldin para Diferentes Números de Clústeres')\n",
                "plt.xlabel('Número de Clústeres')\n",
                "plt.ylabel('Índice Davies-Bouldin')\n",
                "plt.show()"
            ]
        },
        {
            "cell_type": "markdown",
            "metadata": {},
            "source": [
                "We can assume that the optimal number of clusteres for clasifying our dataset, would be 11."
            ]
        },
        {
            "cell_type": "code",
            "execution_count": 17,
            "metadata": {},
            "outputs": [],
            "source": [
                "new_x_train = X_train_noclus\n",
                "new_model = KMeans(n_clusters=11, random_state=42)\n",
                "new_model.fit(new_x_train)\n",
                "new_y_train = new_model.predict(new_x_train)"
            ]
        },
        {
            "cell_type": "code",
            "execution_count": null,
            "metadata": {},
            "outputs": [],
            "source": [
                "new_x_train['cluster'] = new_y_train\n",
                "print(\"Número de clústeres encontrados:\", len(set(new_model.labels_)))\n",
                "new_x_train['cluster'].value_counts()"
            ]
        },
        {
            "cell_type": "code",
            "execution_count": null,
            "metadata": {},
            "outputs": [],
            "source": [
                "new_clusters = {0: 'Cluster A', 1: 'Cluster B', 2: 'Cluster C', 3: 'Cluster D', 4: 'Cluster E', 5: 'Cluster F',\n",
                "            6: 'Cluster G', 7: 'Cluster H', 8: 'Cluster I', 9: 'Cluster J', 10: 'Cluster K'}\n",
                "\n",
                "new_x_train['cluster'] = new_x_train['cluster'].map(new_clusters)\n",
                "new_x_train['cluster'].value_counts()"
            ]
        },
        {
            "cell_type": "code",
            "execution_count": null,
            "metadata": {},
            "outputs": [],
            "source": [
                "fig, axis = plt.subplots(1, 3, figsize = (15, 5))\n",
                "\n",
                "sns.scatterplot(ax = axis[0], data = new_x_train, x = \"Latitude\", y = \"Longitude\", hue = 'cluster', palette = \"deep\")\n",
                "sns.scatterplot(ax = axis[1], data = new_x_train, x = \"Latitude\", y = \"MedInc\", hue = 'cluster', palette = \"deep\")\n",
                "sns.scatterplot(ax = axis[2], data = new_x_train, x = \"Longitude\", y = \"MedInc\", hue = 'cluster', palette = \"deep\")\n",
                "plt.tight_layout()\n",
                "\n",
                "plt.show()"
            ]
        },
        {
            "cell_type": "code",
            "execution_count": null,
            "metadata": {},
            "outputs": [],
            "source": [
                "# Ahora en 3d\n",
                "fig = px.scatter_3d(new_x_train, x = \"Latitude\", y = \"Longitude\", z = \"MedInc\", color = \"cluster\", width = 1000, height = 500,\n",
                "                    size = new_x_train[\"MedInc\"].abs())\n",
                "camera = dict(\n",
                "    up = dict(x = 1, y = 3.5, z = 0),\n",
                "    eye = dict(x = 2, y = 0, z = 0)\n",
                ")\n",
                "\n",
                "fig.update_layout(scene_camera = camera)\n",
                "fig.show()"
            ]
        },
        {
            "cell_type": "markdown",
            "metadata": {},
            "source": [
                "### Paso 3: Predice con el conjunto de test\n",
                "Ahora utiliza el modelo entrenado con el conjunto test y añade los puntos al gráfico anterior para confirmar que la predicción es satisfactoria o no."
            ]
        },
        {
            "cell_type": "code",
            "execution_count": null,
            "metadata": {},
            "outputs": [],
            "source": [
                "y_test = list(new_model.predict(X_test))\n",
                "X_test['cluster'] = y_test\n",
                "X_test.head()"
            ]
        },
        {
            "cell_type": "code",
            "execution_count": null,
            "metadata": {},
            "outputs": [],
            "source": [
                "X_test['cluster'] = X_test['cluster'].map(new_clusters)\n",
                "X_test['cluster']"
            ]
        },
        {
            "cell_type": "code",
            "execution_count": null,
            "metadata": {},
            "outputs": [],
            "source": [
                "new_x_train['source'] = 'X_train'\n",
                "X_test['source'] = 'X_test'\n",
                "consolidated_data = pd.concat((new_x_train, X_test), axis=0)\n",
                "consolidated_data"
            ]
        },
        {
            "cell_type": "code",
            "execution_count": null,
            "metadata": {},
            "outputs": [],
            "source": [
                "palette = sns.color_palette(\"deep\", n_colors=len(new_clusters))             # hago una paleta para el largo de los clusters\n",
                "cluster_palette = dict(zip(new_clusters.values(), palette))                 # asocio la paleta con los clusters\n",
                "\n",
                "fig, axis = plt.subplots(1, 3, figsize = (15, 5))\n",
                "\n",
                "#Esta vez le añado markers con \"style\"\n",
                "sns.scatterplot(ax = axis[0], data = consolidated_data, x = \"Latitude\", y = \"Longitude\", hue = 'cluster', style = 'source', palette = cluster_palette)\n",
                "sns.scatterplot(ax = axis[1], data = consolidated_data, x = \"Latitude\", y = \"MedInc\", hue = 'cluster', style = 'source',palette = cluster_palette)\n",
                "sns.scatterplot(ax = axis[2], data = consolidated_data, x = \"Longitude\", y = \"MedInc\", hue = 'cluster', style = 'source',palette = cluster_palette)\n",
                "\n",
                "plt.tight_layout()\n",
                "\n",
                "plt.show()"
            ]
        },
        {
            "cell_type": "code",
            "execution_count": null,
            "metadata": {},
            "outputs": [],
            "source": [
                "# Ahora en 3d, y #Esta vez le añado markers con \"symbol\"\n",
                "\n",
                "fig = px.scatter_3d(consolidated_data, x = \"Latitude\", y = \"Longitude\", z = \"MedInc\", color = \"cluster\", symbol='source', width = 1000, height = 500,\n",
                "                    size = consolidated_data[\"MedInc\"].abs())\n",
                "camera = dict(\n",
                "    up = dict(x = 1, y = 3.5, z = 0),\n",
                "    eye = dict(x = 2, y = 0, z = 0)\n",
                ")\n",
                "\n",
                "fig.update_layout(scene_camera = camera)\n",
                "fig.show()"
            ]
        },
        {
            "cell_type": "markdown",
            "metadata": {},
            "source": [
                "### Paso 4: Entrena un modelo de clasificación supervisada\n",
                "Ahora que el K-Means nos ha devuelto una categorización (agrupación) de los puntos para los conjuntos de entrenamiento y prueba, estudia qué modelo podría ser más útil y entrénalo. Obtén las estadísticas y describe lo que ves.\n",
                "Este flujo es muy común cuando contamos con datos no etiquetados: utilizar un modelo de aprendizaje no supervisado para etiquetarlos de forma automática y a continuación, un modelo de aprendizaje supervisado.\"\n"
            ]
        },
        {
            "cell_type": "code",
            "execution_count": 32,
            "metadata": {},
            "outputs": [],
            "source": [
                "# Ok, me decido por el boosting algo de XGB\n",
                "# Creo 3 modelos para evaluar la efectividad\n",
                "\n",
                "model1 = XGBClassifier(max_depth=10, min_child_weight=20, learning_rate=0.01, random_state=42)\n",
                "model2 = XGBClassifier(max_depth=20, min_child_weight=10, learning_rate=0.02, random_state=42)\n",
                "model3 = XGBClassifier(max_depth=30, min_child_weight=5, learning_rate=0.025, random_state=42)\n",
                "\n",
                "\n"
            ]
        },
        {
            "cell_type": "code",
            "execution_count": 43,
            "metadata": {},
            "outputs": [],
            "source": [
                "#tuve que hacer esto porque no podia usar el algor XGBClassifier con var categ\n",
                "inverse_clusters = {v: k for k, v in new_clusters.items()}\n",
                "consolidated_data['cluster'] = consolidated_data['cluster'].map(inverse_clusters)"
            ]
        },
        {
            "cell_type": "code",
            "execution_count": 45,
            "metadata": {},
            "outputs": [],
            "source": [
                "X = consolidated_data.drop(['cluster','source'], axis=1)\n",
                "y = consolidated_data['cluster']"
            ]
        },
        {
            "cell_type": "code",
            "execution_count": 48,
            "metadata": {},
            "outputs": [],
            "source": [
                "X_train_1, X_test_1, y_train_1, y_test_1 = tts(X, y, test_size=0.2, random_state=42)"
            ]
        },
        {
            "cell_type": "code",
            "execution_count": null,
            "metadata": {},
            "outputs": [],
            "source": [
                "model1.fit(X_train_1,y_train_1)\n",
                "model2.fit(X_train_1,y_train_1)\n",
                "model3.fit(X_train_1,y_train_1)"
            ]
        },
        {
            "cell_type": "code",
            "execution_count": 50,
            "metadata": {},
            "outputs": [],
            "source": [
                "y_train_pred1 = model1.predict(X_train_1)\n",
                "y_test_pred1 = model1.predict(X_test_1)\n",
                "y_train_pred2 = model2.predict(X_train_1)\n",
                "y_test_pred2 = model2.predict(X_test_1)\n",
                "y_train_pred3 = model3.predict(X_train_1)\n",
                "y_test_pred3 = model3.predict(X_test_1)"
            ]
        },
        {
            "cell_type": "code",
            "execution_count": null,
            "metadata": {},
            "outputs": [],
            "source": [
                "print(f'Accuracy_score for Model1: {accuracy_score(y_test_1, y_test_pred1)}')\n",
                "print(f'Accuracy_score for Model2: {accuracy_score(y_test_1, y_test_pred2)}')\n",
                "print(f'Accuracy_score for Model3: {accuracy_score(y_test_1, y_test_pred3)}')"
            ]
        },
        {
            "cell_type": "markdown",
            "metadata": {},
            "source": [
                "There's no significant difference between the 3 boosting algorithms utilized. We're going to save the intermediate complex one (Model 2)"
            ]
        },
        {
            "cell_type": "code",
            "execution_count": null,
            "metadata": {},
            "outputs": [],
            "source": [
                "dump(new_model, open(\"/workspaces/K-means-Project/models/k-means_new_model_KMeans(n_clusters=11, random_state=42).sav\", \"wb\"))\n",
                "dump(model2, open(\"/workspaces/K-means-Project/models/boosting_XGBClassifier(max_depth=20, min_child_weight=10, learning_rate=0.02, random_state=42).sav\", \"wb\"))"
            ]
        },
        {
            "cell_type": "code",
            "execution_count": null,
            "metadata": {},
            "outputs": [],
            "source": []
        }
    ],
    "metadata": {
        "kernelspec": {
            "display_name": "Python 3.8.13 64-bit ('3.8.13')",
            "language": "python",
            "name": "python3"
        },
        "language_info": {
            "codemirror_mode": {
                "name": "ipython",
                "version": 3
            },
            "file_extension": ".py",
            "mimetype": "text/x-python",
            "name": "python",
            "nbconvert_exporter": "python",
            "pygments_lexer": "ipython3",
            "version": "3.12.5"
        },
        "orig_nbformat": 4,
        "vscode": {
            "interpreter": {
                "hash": "110cc1dee26208153f2972f08a2ad52b6a56238dc66d48e87fb757ef2996db56"
            }
        }
    },
    "nbformat": 4,
    "nbformat_minor": 2
}
